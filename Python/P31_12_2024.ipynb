{
 "cells": [
  {
   "cell_type": "code",
   "execution_count": 3,
   "metadata": {},
   "outputs": [
    {
     "name": "stdout",
     "output_type": "stream",
     "text": [
      "Your age is:  20\n"
     ]
    }
   ],
   "source": [
    "age = input(\"Enter your age: \")\n",
    "print(\"Your age is: \", age)"
   ]
  },
  {
   "cell_type": "code",
   "execution_count": null,
   "metadata": {},
   "outputs": [
    {
     "name": "stdout",
     "output_type": "stream",
     "text": [
      "Your average sgpa is:  8.6\n",
      "8.19.1\n"
     ]
    }
   ],
   "source": [
    "sgpa1 = input(\"Enter your sgpa: \")\n",
    "sgpa2 = input(\"Enter your sgpa: \")\n",
    "avg = (float(sgpa1) + float(sgpa2)) / 2\n",
    "print(\"Your average sgpa is: \", avg)\n",
    "\n"
   ]
  },
  {
   "cell_type": "code",
   "execution_count": 4,
   "metadata": {},
   "outputs": [
    {
     "name": "stdout",
     "output_type": "stream",
     "text": [
      "My name is Ali and I am 20 years old\n"
     ]
    }
   ],
   "source": [
    "age = 20\n",
    "name = \"Ali\"\n",
    "print(\"My name is\", name, \"and I am\", age, \"years old\")\n"
   ]
  },
  {
   "cell_type": "code",
   "execution_count": null,
   "metadata": {},
   "outputs": [
    {
     "name": "stdout",
     "output_type": "stream",
     "text": [
      "My name is abc and I am 20 years old and my score is 91\n"
     ]
    }
   ],
   "source": [
    "# read name, age and score and print accordingly using .format function\n",
    "name = input(\"Enter your name: \")\n",
    "age = input(\"Enter your age: \")\n",
    "score = input(\"Enter your score: \")\n",
    "print(\"My name is {} and I am {} years old and my score is {}\".format(name, age, score))"
   ]
  },
  {
   "cell_type": "code",
   "execution_count": 7,
   "metadata": {},
   "outputs": [
    {
     "name": "stdout",
     "output_type": "stream",
     "text": [
      "Your product is abc and its price is 999\n"
     ]
    }
   ],
   "source": [
    "# read product and price and print using fstring\n",
    "product = input(\"Enter your product: \")\n",
    "price = input(\"Enter your price: \")\n",
    "print(f\"Your product is {product} and its price is {price}\")"
   ]
  },
  {
   "cell_type": "code",
   "execution_count": 8,
   "metadata": {},
   "outputs": [
    {
     "name": "stdout",
     "output_type": "stream",
     "text": [
      "Your words are avb wda fef\n"
     ]
    }
   ],
   "source": [
    "# read multiple words and print using fstring   \n",
    "words = input(\"Enter multiple words: \")\n",
    "print(f\"Your words are {words}\")"
   ]
  },
  {
   "cell_type": "code",
   "execution_count": 19,
   "metadata": {},
   "outputs": [
    {
     "name": "stdout",
     "output_type": "stream",
     "text": [
      "The average of the numbers is: 300.0\n"
     ]
    }
   ],
   "source": [
    "#read there numbers separated by space and calculate average and print average using .format funcion\n",
    "numbers = input(\"Enter multiple numbers: \")\n",
    "avg = sum(map(int, numbers.split())) / len(numbers.split())\n",
    "print(\"The average of the numbers is: {}\".format(avg)) "
   ]
  },
  {
   "cell_type": "code",
   "execution_count": 10,
   "metadata": {},
   "outputs": [
    {
     "name": "stdout",
     "output_type": "stream",
     "text": [
      "My name is abc xyz and I am 20 years old\n"
     ]
    }
   ],
   "source": [
    "# read first name , last name and age and print using c style formatting\n",
    "first_name = input(\"Enter your first name: \")\n",
    "last_name = input(\"Enter your last name: \")\n",
    "age = input(\"Enter your age: \")\n",
    "print(\"My name is %s %s and I am %s years old\" % (first_name, last_name, age))"
   ]
  },
  {
   "cell_type": "code",
   "execution_count": 11,
   "metadata": {},
   "outputs": [
    {
     "name": "stdout",
     "output_type": "stream",
     "text": [
      "Your product is abc and its quantity is 10 and its price is 99999999\n"
     ]
    }
   ],
   "source": [
    "# read product,quantity and price and print using .format function\n",
    "product = input(\"Enter your product: \")\n",
    "quantity = input(\"Enter your quantity: \")\n",
    "price = input(\"Enter your price: \")\n",
    "print(\"Your product is {} and its quantity is {} and its price is {}\".format(product, quantity, price))"
   ]
  },
  {
   "cell_type": "code",
   "execution_count": 20,
   "metadata": {},
   "outputs": [
    {
     "name": "stdout",
     "output_type": "stream",
     "text": [
      "38.0 degrees Celsius is equal to 100.4 degrees Fahrenheit.\n"
     ]
    }
   ],
   "source": [
    "# Temperature Conversion (Intermediate)\n",
    "\n",
    "celsius = float(input(\"Enter temperature in Celsius: \"))\n",
    "fahrenheit = (celsius * 9/5) + 32\n",
    "print(f\"{celsius} degrees Celsius is equal to {fahrenheit} degrees Fahrenheit.\")"
   ]
  },
  {
   "cell_type": "code",
   "execution_count": 13,
   "metadata": {},
   "outputs": [
    {
     "name": "stdout",
     "output_type": "stream",
     "text": [
      "Your date of birth is 1 1 02\n"
     ]
    }
   ],
   "source": [
    "#read day , month and year and print using .format function\n",
    "day = input(\"Enter your day: \")\n",
    "month = input(\"Enter your month: \")\n",
    "year = input(\"Enter your year: \")\n",
    "print(\"Your date of birth is {} {} {}\".format(day, month, year))"
   ]
  },
  {
   "cell_type": "code",
   "execution_count": null,
   "metadata": {},
   "outputs": [],
   "source": [
    "# read weight and height and pring BMI using fstring\n",
    "weight = input(\"Enter your weight: \")\n",
    "height = input(\"Enter your height: \")\n",
    "BMI = weight / (height ** 2)\n",
    "print(f\"Your BMI is {BMI}\")"
   ]
  }
 ],
 "metadata": {
  "kernelspec": {
   "display_name": "Python 3",
   "language": "python",
   "name": "python3"
  },
  "language_info": {
   "codemirror_mode": {
    "name": "ipython",
    "version": 3
   },
   "file_extension": ".py",
   "mimetype": "text/x-python",
   "name": "python",
   "nbconvert_exporter": "python",
   "pygments_lexer": "ipython3",
   "version": "3.11.9"
  }
 },
 "nbformat": 4,
 "nbformat_minor": 2
}
