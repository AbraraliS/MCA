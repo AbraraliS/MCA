{
 "cells": [
  {
   "cell_type": "code",
   "execution_count": 1,
   "metadata": {},
   "outputs": [
    {
     "name": "stdout",
     "output_type": "stream",
     "text": [
      "[1 2 3 4]\n",
      "<class 'numpy.ndarray'>\n"
     ]
    }
   ],
   "source": [
    "#import numpy and arrays\n",
    "import numpy as np\n",
    "import array as ar\n",
    "\n",
    "arr = np.array([1,2,3,4])\n",
    "print(arr)\n",
    "print(type(arr))\n",
    "\n"
   ]
  },
  {
   "cell_type": "code",
   "execution_count": 2,
   "metadata": {},
   "outputs": [
    {
     "name": "stdout",
     "output_type": "stream",
     "text": [
      "[[1 2 3 4]\n",
      " [6 7 8 9]]\n",
      "<class 'numpy.ndarray'>\n"
     ]
    }
   ],
   "source": [
    "arr = np.array([[1,2,3,4],[6,7,8,9]])\n",
    "print(arr)\n",
    "print(type(arr))"
   ]
  },
  {
   "cell_type": "code",
   "execution_count": 5,
   "metadata": {},
   "outputs": [
    {
     "name": "stdout",
     "output_type": "stream",
     "text": [
      "[ 1  2  3  4 55]\n"
     ]
    }
   ],
   "source": [
    "arr = np.array((1,2,3,4,55))\n",
    "print(arr)"
   ]
  },
  {
   "cell_type": "code",
   "execution_count": 16,
   "metadata": {},
   "outputs": [
    {
     "name": "stdout",
     "output_type": "stream",
     "text": [
      "array('i', [1, 2, 3])\n",
      "<class 'array.array'>\n",
      "array('f', [1.0, 2.0, 3.0])\n",
      "<class 'array.array'>\n"
     ]
    }
   ],
   "source": [
    "a = ar.array('i', [1,2,3])\n",
    "print(a)\n",
    "print(type(a))\n",
    "a = ar.array('f', [1.0,2.0,3.0])\n",
    "print(a)\n",
    "print(type(a))"
   ]
  },
  {
   "cell_type": "code",
   "execution_count": 29,
   "metadata": {},
   "outputs": [
    {
     "name": "stdout",
     "output_type": "stream",
     "text": [
      "[0.   0.25 0.5  0.75 1.  ]\n"
     ]
    }
   ],
   "source": [
    "a = np.linspace(0,1,5)\n",
    "print(a)"
   ]
  },
  {
   "cell_type": "code",
   "execution_count": 28,
   "metadata": {},
   "outputs": [
    {
     "name": "stdout",
     "output_type": "stream",
     "text": [
      "[1.00000000e+00 3.16227766e+02 1.00000000e+05 3.16227766e+07\n",
      " 1.00000000e+10]\n"
     ]
    },
    {
     "data": {
      "text/plain": [
       "numpy.ndarray"
      ]
     },
     "execution_count": 28,
     "metadata": {},
     "output_type": "execute_result"
    }
   ],
   "source": [
    "a = np.logspace(0,10,5)\n",
    "print(a)\n",
    "type(a)"
   ]
  },
  {
   "cell_type": "code",
   "execution_count": 27,
   "metadata": {},
   "outputs": [
    {
     "name": "stdout",
     "output_type": "stream",
     "text": [
      "range(1, 10)\n",
      "1\n",
      "2\n",
      "3\n",
      "4\n",
      "5\n",
      "6\n",
      "7\n",
      "8\n",
      "9\n"
     ]
    }
   ],
   "source": [
    "k = range(1,10)\n",
    "print(k)\n",
    "for i in k:\n",
    "    print(i)"
   ]
  },
  {
   "cell_type": "code",
   "execution_count": 30,
   "metadata": {},
   "outputs": [
    {
     "name": "stdout",
     "output_type": "stream",
     "text": [
      "a\n",
      "b\n",
      "c\n",
      "d\n"
     ]
    }
   ],
   "source": [
    "for i in 'abcd':\n",
    "    print(i)"
   ]
  },
  {
   "cell_type": "code",
   "execution_count": 35,
   "metadata": {},
   "outputs": [
    {
     "name": "stdout",
     "output_type": "stream",
     "text": [
      "1\n",
      "2\n",
      "3\n",
      "4\n",
      "5\n",
      "6\n",
      "7\n",
      "8\n",
      "9\n"
     ]
    },
    {
     "data": {
      "text/plain": [
       "array([1, 2, 3, 4, 5, 6, 7, 8, 9])"
      ]
     },
     "execution_count": 35,
     "metadata": {},
     "output_type": "execute_result"
    }
   ],
   "source": [
    "a = np.arange(1,10)\n",
    "\n",
    "for i in a:\n",
    "    print(i)\n",
    "type(a)\n",
    "a"
   ]
  },
  {
   "cell_type": "code",
   "execution_count": 37,
   "metadata": {},
   "outputs": [
    {
     "data": {
      "text/plain": [
       "array([[5, 5, 5],\n",
       "       [5, 5, 5]])"
      ]
     },
     "execution_count": 37,
     "metadata": {},
     "output_type": "execute_result"
    }
   ],
   "source": [
    "a = np.full((2,3),5)\n",
    "a"
   ]
  },
  {
   "cell_type": "code",
   "execution_count": 57,
   "metadata": {},
   "outputs": [
    {
     "name": "stdout",
     "output_type": "stream",
     "text": [
      "[1.         1.41421356 1.73205081 2.        ]\n",
      "[1.57079633        nan        nan        nan]\n"
     ]
    },
    {
     "name": "stderr",
     "output_type": "stream",
     "text": [
      "C:\\Users\\Abrarali\\AppData\\Local\\Temp\\ipykernel_9300\\1888050568.py:4: RuntimeWarning: invalid value encountered in arcsin\n",
      "  b=np.arcsin(a)\n"
     ]
    }
   ],
   "source": [
    "\n",
    "a = np.array([1,2,3,4])\n",
    "b = np.sqrt(a)\n",
    "print(b)\n",
    "b=np.arcsin(a)\n",
    "print(b)"
   ]
  },
  {
   "cell_type": "code",
   "execution_count": 90,
   "metadata": {},
   "outputs": [
    {
     "name": "stdout",
     "output_type": "stream",
     "text": [
      "[ True False  True False]\n",
      "[ True  True  True  True]\n",
      "[False False False False]\n",
      "[False  True False  True]\n",
      "[ True False  True False]\n",
      "False\n",
      "True\n",
      "[False False False False]\n",
      "[False  True False  True]\n",
      "[False  True False  True]\n",
      "[ True False  True False]\n",
      "[0 3 0 5]\n",
      "[1 2 3 4]\n",
      "1\n",
      "4\n",
      "8\n",
      "int64\n",
      "(4,)\n",
      "[[1 2]\n",
      " [3 4]]\n"
     ]
    }
   ],
   "source": [
    "a = np.array([1,2,3,4])\n",
    "b = np.array([1,3,3,5])\n",
    "\n",
    "#Comp Function\n",
    "print(a>=b)\n",
    "print(a<=b)\n",
    "print(a>b)\n",
    "print(a<b)\n",
    "print(a==b)\n",
    "\n",
    "# Any function\n",
    "print(any(a>b))\n",
    "print(any(a<b))\n",
    "\n",
    "# Logical Function\n",
    "print(np.logical_and(a<b,a>b))\n",
    "print(np.logical_or(a<b,a>b))\n",
    "print(np.logical_xor(a<b,a>b))\n",
    "print(np.logical_not(a<b,a>b))\n",
    "\n",
    "# Where \n",
    "c = np.where(a % 2 == 0,a + 1, 0)\n",
    "print(c)\n",
    "\n",
    "# Copy method\n",
    "c = a.copy()\n",
    "print(c) \n",
    "\n",
    "# Dimension of Array\n",
    "print(a.ndim)\n",
    "print(a.size)\n",
    "print(a.itemsize)\n",
    "print(a.dtype)\n",
    "print(a.shape)\n",
    "b = a.reshape((2,2))\n",
    "print(b)\n",
    "    "
   ]
  },
  {
   "cell_type": "code",
   "execution_count": 91,
   "metadata": {},
   "outputs": [
    {
     "name": "stdout",
     "output_type": "stream",
     "text": [
      "----- 2.3 Create a 3x3 matrix with values from 0 to 8 -----\n",
      "3x3 Matrix:\n",
      " [[0 1 2]\n",
      " [3 4 5]\n",
      " [6 7 8]]\n",
      "\n"
     ]
    }
   ],
   "source": [
    "print(\"----- 2.3 Create a 3x3 matrix with values from 0 to 8 -----\")\n",
    "array_1d = np.arange(9)\n",
    "matrix_3x3 = array_1d.reshape(3, 3)\n",
    "print(\"3x3 Matrix:\\n\", matrix_3x3)\n",
    "print()\n"
   ]
  },
  {
   "cell_type": "code",
   "execution_count": 93,
   "metadata": {},
   "outputs": [
    {
     "name": "stdout",
     "output_type": "stream",
     "text": [
      "----- 1.1 Create an array of zeros -----\n",
      "Array of zeros: [0. 0. 0. 0. 0. 0. 0. 0. 0. 0.]\n",
      "\n"
     ]
    }
   ],
   "source": [
    "print(\"----- 1.1 Create an array of zeros -----\")\n",
    "zeros_array = np.zeros(10)\n",
    "print(\"Array of zeros:\", zeros_array)\n",
    "print()"
   ]
  }
 ],
 "metadata": {
  "kernelspec": {
   "display_name": "Python 3",
   "language": "python",
   "name": "python3"
  },
  "language_info": {
   "codemirror_mode": {
    "name": "ipython",
    "version": 3
   },
   "file_extension": ".py",
   "mimetype": "text/x-python",
   "name": "python",
   "nbconvert_exporter": "python",
   "pygments_lexer": "ipython3",
   "version": "3.11.9"
  }
 },
 "nbformat": 4,
 "nbformat_minor": 2
}
